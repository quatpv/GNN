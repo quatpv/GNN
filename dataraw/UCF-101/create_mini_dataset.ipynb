{
 "cells": [
  {
   "cell_type": "code",
   "execution_count": 1,
   "id": "f2589ad7-0cbc-4fe6-b353-a7c2567f0834",
   "metadata": {},
   "outputs": [],
   "source": [
    "import json"
   ]
  },
  {
   "cell_type": "code",
   "execution_count": 2,
   "id": "a9e9923e-88ae-4aac-b09d-2f393d09b366",
   "metadata": {},
   "outputs": [],
   "source": [
    "data = json.load(open('ucf101_01.json', 'r'))"
   ]
  },
  {
   "cell_type": "code",
   "execution_count": 3,
   "id": "43288c42-3d5b-4bda-8708-4e7c49d59bdc",
   "metadata": {},
   "outputs": [],
   "source": [
    "mini = ['PlayingFlute', 'Biking', 'SkateBoarding', 'TableTennisShot', 'Typing', 'SkyDiving', 'TrampolineJumping', 'BrushingTeeth', 'PullUps', 'YoYo']"
   ]
  },
  {
   "cell_type": "code",
   "execution_count": 4,
   "id": "52135cf1-8b4b-48b1-a3ff-4e14ca5224b1",
   "metadata": {},
   "outputs": [],
   "source": [
    "mini_data = {\"labels\": [], \"database\": {}}"
   ]
  },
  {
   "cell_type": "code",
   "execution_count": 5,
   "id": "6bfa74cc-00b5-4054-b2df-b0c5a02064d8",
   "metadata": {},
   "outputs": [],
   "source": [
    "mini_data['labels'] = mini"
   ]
  },
  {
   "cell_type": "code",
   "execution_count": 6,
   "id": "c4d53704-5bb7-4fb9-8e2b-1adb4eb4784a",
   "metadata": {},
   "outputs": [],
   "source": [
    "cnt = 0\n",
    "for train in data['database']:\n",
    "    if train.split('_')[1] in mini:\n",
    "        mini_data[\"database\"][train] = data['database'][train]"
   ]
  },
  {
   "cell_type": "code",
   "execution_count": 7,
   "id": "b9d49ec0-ab0a-468d-bd39-0712080488e6",
   "metadata": {},
   "outputs": [],
   "source": [
    "with open('ucf101_10_class.json', 'w') as f:\n",
    "    json.dump(mini_data, f, ensure_ascii=False, indent=4)"
   ]
  },
  {
   "cell_type": "code",
   "execution_count": null,
   "id": "1a505c52-c111-4ba5-9044-d7816159da90",
   "metadata": {},
   "outputs": [],
   "source": []
  }
 ],
 "metadata": {
  "kernelspec": {
   "display_name": "Python 3 (ipykernel)",
   "language": "python",
   "name": "python3"
  },
  "language_info": {
   "codemirror_mode": {
    "name": "ipython",
    "version": 3
   },
   "file_extension": ".py",
   "mimetype": "text/x-python",
   "name": "python",
   "nbconvert_exporter": "python",
   "pygments_lexer": "ipython3",
   "version": "3.9.7"
  }
 },
 "nbformat": 4,
 "nbformat_minor": 5
}
